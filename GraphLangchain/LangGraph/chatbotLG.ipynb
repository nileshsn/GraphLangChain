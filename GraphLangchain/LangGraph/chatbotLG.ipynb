{
 "cells": [
  {
   "cell_type": "code",
   "execution_count": 4,
   "metadata": {},
   "outputs": [],
   "source": [
    "import os\n",
    "from dotenv import load_dotenv\n",
    "load_dotenv()\n",
    "\n",
    "os.environ[\"LANGSMITH_API_KEY\"] = \"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\"\n",
    "os.environ[\"LANGSMITH_PROJECT\"] = \"CourseLangGraph\"\n",
    "os.environ[\"GROQ_API_KEY\"] = \"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\""
   ]
  },
  {
   "cell_type": "code",
   "execution_count": 7,
   "metadata": {},
   "outputs": [],
   "source": [
    "groq_api_key = os.getenv(\"GROQ_API_KEY\")"
   ]
  },
  {
   "cell_type": "code",
   "execution_count": 8,
   "metadata": {},
   "outputs": [
    {
     "data": {
      "text/plain": [
       "ChatGroq(client=<groq.resources.chat.completions.Completions object at 0x00000236F505D400>, async_client=<groq.resources.chat.completions.AsyncCompletions object at 0x00000236F4F2CCB0>, model_name='Gemma2-9b-It', groq_api_key=SecretStr('**********'))"
      ]
     },
     "execution_count": 8,
     "metadata": {},
     "output_type": "execute_result"
    }
   ],
   "source": [
    "from langchain_groq import ChatGroq\n",
    "\n",
    "llm = ChatGroq(groq_api_key=groq_api_key, model_name=\"Gemma2-9b-It\")\n",
    "llm"
   ]
  },
  {
   "cell_type": "markdown",
   "metadata": {},
   "source": [
    "### Start Building ChatBot Using LangGraph"
   ]
  },
  {
   "cell_type": "code",
   "execution_count": 9,
   "metadata": {},
   "outputs": [],
   "source": [
    "from typing import Annotated\n",
    "from typing_extensions import TypedDict\n",
    "from langgraph.graph import StateGraph, START, END\n",
    "from langgraph.graph.message import add_messages\n"
   ]
  },
  {
   "cell_type": "code",
   "execution_count": 10,
   "metadata": {},
   "outputs": [],
   "source": [
    "from typing import List\n",
    "class State(TypedDict):\n",
    "    # Messages have the type \"list\". The `add_messages` function\n",
    "    # In the annotation defines how this state key should be updated\n",
    "    # (in the case, it appends messages to the list, rather than overwriting them)\n",
    "    messages: Annotated[List[str], add_messages]\n",
    "graph_builder = StateGraph(State)"
   ]
  },
  {
   "cell_type": "code",
   "execution_count": 11,
   "metadata": {},
   "outputs": [
    {
     "data": {
      "text/plain": [
       "<langgraph.graph.state.StateGraph at 0x236f507f1d0>"
      ]
     },
     "execution_count": 11,
     "metadata": {},
     "output_type": "execute_result"
    }
   ],
   "source": [
    "graph_builder"
   ]
  },
  {
   "cell_type": "code",
   "execution_count": 13,
   "metadata": {},
   "outputs": [],
   "source": [
    "def chatbot(state:State):\n",
    "    return {\"messages\": llm.invoke(state[\"messages\"])} "
   ]
  },
  {
   "cell_type": "code",
   "execution_count": 14,
   "metadata": {},
   "outputs": [],
   "source": [
    "graph_builder.add_node(\"chatbot\", chatbot)"
   ]
  },
  {
   "cell_type": "code",
   "execution_count": 15,
   "metadata": {},
   "outputs": [
    {
     "data": {
      "text/plain": [
       "<langgraph.graph.state.StateGraph at 0x236f507f1d0>"
      ]
     },
     "execution_count": 15,
     "metadata": {},
     "output_type": "execute_result"
    }
   ],
   "source": [
    "graph_builder"
   ]
  },
  {
   "cell_type": "code",
   "execution_count": 16,
   "metadata": {},
   "outputs": [],
   "source": [
    "graph_builder.add_edge(START, \"chatbot\")\n",
    "graph_builder.add_edge(\"chatbot\", END)"
   ]
  },
  {
   "cell_type": "code",
   "execution_count": 17,
   "metadata": {},
   "outputs": [],
   "source": [
    "graph = graph_builder.compile()"
   ]
  },
  {
   "cell_type": "code",
   "execution_count": 21,
   "metadata": {},
   "outputs": [
    {
     "data": {
      "image/jpeg": "[encoded data removed]",
      "text/plain": [
       "<IPython.core.display.Image object>"
      ]
     },
     "metadata": {},
     "output_type": "display_data"
    }
   ],
   "source": [
    "from IPython.display import Image, display\n",
    "try:\n",
    "    display(Image(graph.get_graph().draw_mermaid_png()))\n",
    "except Exception:\n",
    "    pass"
   ]
  },
  {
   "cell_type": "code",
   "execution_count": 22,
   "metadata": {},
   "outputs": [
    {
     "name": "stdout",
     "output_type": "stream",
     "text": [
      "dict_values([{'messages': AIMessage(content='Hello! How can I help you today? 😊  \\n', response_metadata={'token_usage': {'completion_tokens': 14, 'prompt_tokens': 10, 'total_tokens': 24, 'completion_time': 0.025454545, 'prompt_time': 3.7e-07, 'queue_time': 0.015476048000000001, 'total_time': 0.025454915}, 'model_name': 'Gemma2-9b-It', 'system_fingerprint': 'fp_10c08bf97d', 'finish_reason': 'stop', 'logprobs': None}, id='run-f0eb0cb9-354c-4f53-9f1d-99036733be07-0', usage_metadata={'input_tokens': 10, 'output_tokens': 14, 'total_tokens': 24})}])\n",
      "content='Hello! How can I help you today? 😊  \\n' response_metadata={'token_usage': {'completion_tokens': 14, 'prompt_tokens': 10, 'total_tokens': 24, 'completion_time': 0.025454545, 'prompt_time': 3.7e-07, 'queue_time': 0.015476048000000001, 'total_time': 0.025454915}, 'model_name': 'Gemma2-9b-It', 'system_fingerprint': 'fp_10c08bf97d', 'finish_reason': 'stop', 'logprobs': None} id='run-f0eb0cb9-354c-4f53-9f1d-99036733be07-0' usage_metadata={'input_tokens': 10, 'output_tokens': 14, 'total_tokens': 24}\n",
      "Assistant: Hello! How can I help you today? 😊  \n",
      "\n",
      "dict_values([{'messages': AIMessage(content='\"Gen AI\" stands for **Generative Artificial Intelligence**. \\n\\nIt\\'s a type of artificial intelligence that focuses on creating new content, rather than simply analyzing existing data. Think of it like this:\\n\\n* **Traditional AI:**  Analyzes data to find patterns and make predictions (e.g., recommending a movie you might like).\\n* **Gen AI:** Uses those patterns to generate new content based on what it\\'s learned (e.g., writing a poem in the style of Shakespeare).\\n\\n**Here are some key things to know about Gen AI:**\\n\\n* **Types of Content:** Gen AI can create a wide variety of content, including:\\n    * Text (stories, articles, poems, code)\\n    * Images (photorealistic images, artwork, illustrations)\\n    * Audio (music, sound effects, voiceovers)\\n    * Video (short clips, animations)\\n* **How it Works:** Gen AI models are trained on massive datasets of existing content. This allows them to learn the underlying patterns and structures of that content. Then, they can use this knowledge to generate new content that follows a similar style and structure.\\n* **Examples:**\\n    * **ChatGPT:** A text-based Gen AI that can hold conversations, write stories, and answer questions.\\n    * **DALL-E 2:** An image-generating Gen AI that can create realistic and imaginative images from text descriptions.\\n    * **Jukebox:** An audio-generating Gen AI that can create music in various styles.\\n\\n**Gen AI is still a rapidly developing field, but it has the potential to revolutionize many industries, including:**\\n\\n* **Creative Industries:** Writing, art, music, and design\\n* **Marketing and Advertising:** Generating personalized content and ad campaigns\\n* **Education:** Creating interactive learning materials and personalized tutoring\\n* **Healthcare:** Assisting with drug discovery and medical imaging analysis\\n\\nHowever, it\\'s important to note that Gen AI also raises ethical concerns, such as the potential for misuse, bias, and job displacement.\\n\\n\\nLet me know if you have any other questions about Gen AI!\\n\\n', response_metadata={'token_usage': {'completion_tokens': 441, 'prompt_tokens': 13, 'total_tokens': 454, 'completion_time': 0.801818182, 'prompt_time': 7.416e-05, 'queue_time': 0.013378789, 'total_time': 0.801892342}, 'model_name': 'Gemma2-9b-It', 'system_fingerprint': 'fp_10c08bf97d', 'finish_reason': 'stop', 'logprobs': None}, id='run-14650d33-c216-46d2-8e40-ba17fe16408d-0', usage_metadata={'input_tokens': 13, 'output_tokens': 441, 'total_tokens': 454})}])\n",
      "content='\"Gen AI\" stands for **Generative Artificial Intelligence**. \\n\\nIt\\'s a type of artificial intelligence that focuses on creating new content, rather than simply analyzing existing data. Think of it like this:\\n\\n* **Traditional AI:**  Analyzes data to find patterns and make predictions (e.g., recommending a movie you might like).\\n* **Gen AI:** Uses those patterns to generate new content based on what it\\'s learned (e.g., writing a poem in the style of Shakespeare).\\n\\n**Here are some key things to know about Gen AI:**\\n\\n* **Types of Content:** Gen AI can create a wide variety of content, including:\\n    * Text (stories, articles, poems, code)\\n    * Images (photorealistic images, artwork, illustrations)\\n    * Audio (music, sound effects, voiceovers)\\n    * Video (short clips, animations)\\n* **How it Works:** Gen AI models are trained on massive datasets of existing content. This allows them to learn the underlying patterns and structures of that content. Then, they can use this knowledge to generate new content that follows a similar style and structure.\\n* **Examples:**\\n    * **ChatGPT:** A text-based Gen AI that can hold conversations, write stories, and answer questions.\\n    * **DALL-E 2:** An image-generating Gen AI that can create realistic and imaginative images from text descriptions.\\n    * **Jukebox:** An audio-generating Gen AI that can create music in various styles.\\n\\n**Gen AI is still a rapidly developing field, but it has the potential to revolutionize many industries, including:**\\n\\n* **Creative Industries:** Writing, art, music, and design\\n* **Marketing and Advertising:** Generating personalized content and ad campaigns\\n* **Education:** Creating interactive learning materials and personalized tutoring\\n* **Healthcare:** Assisting with drug discovery and medical imaging analysis\\n\\nHowever, it\\'s important to note that Gen AI also raises ethical concerns, such as the potential for misuse, bias, and job displacement.\\n\\n\\nLet me know if you have any other questions about Gen AI!\\n\\n' response_metadata={'token_usage': {'completion_tokens': 441, 'prompt_tokens': 13, 'total_tokens': 454, 'completion_time': 0.801818182, 'prompt_time': 7.416e-05, 'queue_time': 0.013378789, 'total_time': 0.801892342}, 'model_name': 'Gemma2-9b-It', 'system_fingerprint': 'fp_10c08bf97d', 'finish_reason': 'stop', 'logprobs': None} id='run-14650d33-c216-46d2-8e40-ba17fe16408d-0' usage_metadata={'input_tokens': 13, 'output_tokens': 441, 'total_tokens': 454}\n",
      "Assistant: \"Gen AI\" stands for **Generative Artificial Intelligence**. \n",
      "\n",
      "It's a type of artificial intelligence that focuses on creating new content, rather than simply analyzing existing data. Think of it like this:\n",
      "\n",
      "* **Traditional AI:**  Analyzes data to find patterns and make predictions (e.g., recommending a movie you might like).\n",
      "* **Gen AI:** Uses those patterns to generate new content based on what it's learned (e.g., writing a poem in the style of Shakespeare).\n",
      "\n",
      "**Here are some key things to know about Gen AI:**\n",
      "\n",
      "* **Types of Content:** Gen AI can create a wide variety of content, including:\n",
      "    * Text (stories, articles, poems, code)\n",
      "    * Images (photorealistic images, artwork, illustrations)\n",
      "    * Audio (music, sound effects, voiceovers)\n",
      "    * Video (short clips, animations)\n",
      "* **How it Works:** Gen AI models are trained on massive datasets of existing content. This allows them to learn the underlying patterns and structures of that content. Then, they can use this knowledge to generate new content that follows a similar style and structure.\n",
      "* **Examples:**\n",
      "    * **ChatGPT:** A text-based Gen AI that can hold conversations, write stories, and answer questions.\n",
      "    * **DALL-E 2:** An image-generating Gen AI that can create realistic and imaginative images from text descriptions.\n",
      "    * **Jukebox:** An audio-generating Gen AI that can create music in various styles.\n",
      "\n",
      "**Gen AI is still a rapidly developing field, but it has the potential to revolutionize many industries, including:**\n",
      "\n",
      "* **Creative Industries:** Writing, art, music, and design\n",
      "* **Marketing and Advertising:** Generating personalized content and ad campaigns\n",
      "* **Education:** Creating interactive learning materials and personalized tutoring\n",
      "* **Healthcare:** Assisting with drug discovery and medical imaging analysis\n",
      "\n",
      "However, it's important to note that Gen AI also raises ethical concerns, such as the potential for misuse, bias, and job displacement.\n",
      "\n",
      "\n",
      "Let me know if you have any other questions about Gen AI!\n",
      "\n",
      "\n",
      "Good Bye\n"
     ]
    }
   ],
   "source": [
    "while True:\n",
    "    user_input = input(\"User\")\n",
    "    if user_input.lower() in [\"quit\", \"q\"]:\n",
    "        print(\"Good Bye\")\n",
    "        break\n",
    "    for event in graph.stream({'messages': (\"user\", user_input)}):\n",
    "        print(event.values())\n",
    "        for value in event.values():\n",
    "            print(value['messages'])\n",
    "            print(\"Assistant:\", value[\"messages\"].content)"
   ]
  },
  {
   "cell_type": "code",
   "execution_count": null,
   "metadata": {},
   "outputs": [],
   "source": []
  },
  {
   "cell_type": "code",
   "execution_count": null,
   "metadata": {},
   "outputs": [],
   "source": []
  },
  {
   "cell_type": "code",
   "execution_count": null,
   "metadata": {},
   "outputs": [],
   "source": []
  },
  {
   "cell_type": "code",
   "execution_count": null,
   "metadata": {},
   "outputs": [],
   "source": []
  },
  {
   "cell_type": "code",
   "execution_count": null,
   "metadata": {},
   "outputs": [],
   "source": []
  }
 ],
 "metadata": {
  "kernelspec": {
   "display_name": "Python 3",
   "language": "python",
   "name": "python3"
  },
  "language_info": {
   "codemirror_mode": {
    "name": "ipython",
    "version": 3
   },
   "file_extension": ".py",
   "mimetype": "text/x-python",
   "name": "python",
   "nbconvert_exporter": "python",
   "pygments_lexer": "ipython3",
   "version": "3.12.0"
  }
 },
 "nbformat": 4,
 "nbformat_minor": 2
}
